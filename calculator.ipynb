{
 "cells": [
  {
   "cell_type": "code",
   "execution_count": 1,
   "id": "6ef5af01-55a6-4848-945a-97ca17c2f417",
   "metadata": {},
   "outputs": [
    {
     "name": "stdout",
     "output_type": "stream",
     "text": [
      "hello doummar\n"
     ]
    }
   ],
   "source": [
    "print(\"hello doummar\")"
   ]
  },
  {
   "cell_type": "code",
   "execution_count": 5,
   "id": "729aebd7-7d10-411c-a0ca-21b6012f17e0",
   "metadata": {},
   "outputs": [
    {
     "ename": "SyntaxError",
     "evalue": "invalid syntax (76431795.py, line 1)",
     "output_type": "error",
     "traceback": [
      "\u001b[1;36m  Cell \u001b[1;32mIn[5], line 1\u001b[1;36m\u001b[0m\n\u001b[1;33m    From tkinter import Tk ,Entry,Button ,StringVar\u001b[0m\n\u001b[1;37m         ^\u001b[0m\n\u001b[1;31mSyntaxError\u001b[0m\u001b[1;31m:\u001b[0m invalid syntax\n"
     ]
    }
   ],
   "source": [
    "From tkinter import Tk ,Entry,Button ,StringVar\n",
    "class Calculator:\n",
    "    def __init__(self,master):\n",
    "        master.title(\"Calculator\")\n",
    "        master.geometry('357*420+0+0')\n",
    "        master.config(bg='gray')\n",
    "        master.resizable(False,False)\n",
    "        self.equation=StringVar()\n",
    "        self.entry_value=''\n",
    "        Entry(width=17,bg='#fff',font=('Arial Bold',28),textvariable='self.equation').place(x=0,y=0)\n",
    "        Button(width=11,height=4,text='(',relief='flat',bg='white',command=lambda:self.show('(').place(x=0,y=50))\n",
    "        Button(width=11,height=4,text=')',relief='flat',bg='white',command=lambda:self.show(')').place(x=90,y=50))\n",
    "        Button(width=11,height=4,text='%',relief='flat',bg='white',command=lambda:self.show('%').place(x=180,y=125))\n",
    "        Button(width=11,height=4,text='1',relief='flat',bg='white',command=lambda:self.show('1').place(x=0,y=125))\n",
    "        Button(width=11,height=4,text='2',relief='flat',bg='white',command=lambda:self.show('2').place(x=90,y=125))\n",
    "        Button(width=11,height=4,text='3',relief='flat',bg='white',command=lambda:self.show('3').place(x=180,y=200))\n",
    "        Button(width=11,height=4,text='4',relief='flat',bg='white',command=lambda:self.show('4').place(x=0,y=200))\n",
    "        Button(width=11,height=4,text='5',relief='flat',bg='white',command=lambda:self.show('5').place(x=90,y=200))\n",
    "        Button(width=11,height=4,text='6',relief='flat',bg='white',command=lambda:self.show('6').place(x=180,y=275))\n",
    "        Button(width=11,height=4,text='7',relief='flat',bg='white',command=lambda:self.show('7').place(x=0,y=275))\n",
    "        Button(width=11,height=4,text='8',relief='flat',bg='white',command=lambda:self.show('8').place(x=180,y=350))\n",
    "        Button(width=11,height=4,text='9',relief='flat',bg='white',command=lambda:self.show('9').place(x=90,y=350))\n",
    "        Button(width=11,height=4,text='.',relief='flat',bg='white',command=lambda:self.show('.').place(x=90,y=350))\n",
    "        Button(width=11,height=4,text='+',relief='flat',bg='white',command=lambda:self.show('+').place(x=180,y=200))\n",
    "        Button(width=11,height=4,text='_',relief='flat',bg='white',command=lambda:self.show('_').place(x=270,y=50))\n",
    "        Button(width=11,height=4,text='/',relief='flat',bg='white',command=lambda:self.show('/').place(x=270,y=125))\n",
    "        Button(width=11,height=4,text='*',relief='flat',bg='white',command=lambda:self.show('*').place(x=270,y=))\n",
    "        Button(width=11,height=4,text='=',relief='flat',bg='white',command=lambda:self.show('=').place(x=,y=))\n",
    "        Button(width=11,height=4,text='C',relief='flat',bg='white',command=lambda:self.show('C').place(x=,y=))\n",
    "        Button(width=11,height=4,text='=',relief='flat',bg='white',command=self.solve).place(x=,y=)\n",
    "        Button(width=11,height=4,text='C',relief='flat',bg='white',command=lambda:self.show('C').place(x=,y=))\n",
    "    def show(self,value):\n",
    "        self.entry_value+=str(value)\n",
    "        self.equation.set(self.entry_value)\n",
    "    def clear(self):\n",
    "        self.entry_value=''\n",
    "        self.equation.set(self.entry_value)\n",
    "    def solve(self):\n",
    "        result=eval(self.entry_value)\n",
    "        self.equation.set(result)\n",
    "        \n",
    "        \n",
    "    \n",
    "root =Tk()\n",
    "   Calculator=Calculator(root)\n",
    "    root.mainloop()\n",
    "    "
   ]
  },
  {
   "cell_type": "code",
   "execution_count": null,
   "id": "7d6c675c-d2de-4c06-b57c-4010fcd5eb4d",
   "metadata": {},
   "outputs": [],
   "source": []
  }
 ],
 "metadata": {
  "kernelspec": {
   "display_name": "Python 3 (ipykernel)",
   "language": "python",
   "name": "python3"
  },
  "language_info": {
   "codemirror_mode": {
    "name": "ipython",
    "version": 3
   },
   "file_extension": ".py",
   "mimetype": "text/x-python",
   "name": "python",
   "nbconvert_exporter": "python",
   "pygments_lexer": "ipython3",
   "version": "3.12.3"
  }
 },
 "nbformat": 4,
 "nbformat_minor": 5
}
